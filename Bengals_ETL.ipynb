{
 "cells": [
  {
   "cell_type": "markdown",
   "id": "7d67ad5e",
   "metadata": {},
   "source": [
    "# <u>Bengals Data ETL</u>"
   ]
  },
  {
   "cell_type": "markdown",
   "id": "b8077d87",
   "metadata": {},
   "source": [
    "### Establish Package Imports"
   ]
  },
  {
   "cell_type": "code",
   "execution_count": 55,
   "id": "be571281",
   "metadata": {},
   "outputs": [],
   "source": [
    "import boto3\n",
    "import pandas as pd\n",
    "import io"
   ]
  },
  {
   "cell_type": "markdown",
   "id": "b72f32d8",
   "metadata": {},
   "source": [
    "### Create Connection Class for AWS S3 Bucket\n",
    "\n",
    "Notes:\n",
    "- AWS Credentials were setup with Environment Variables"
   ]
  },
  {
   "cell_type": "code",
   "execution_count": 61,
   "id": "3c46b60d",
   "metadata": {},
   "outputs": [],
   "source": [
    "class Data_Connection:\n",
    "    def __init__(self):\n",
    "        self.aws_connection = boto3.Session()\n",
    "        self.s3_connection = self.aws_connection.client('s3')\n",
    "        self.aws_bucket = 'mindex-data-analytics-code-challenge'\n",
    "    \n",
    "    def check_bucket_connection(self):\n",
    "        print(\"Configurating Connection to S3 Bucket...\")\n",
    "        try:\n",
    "            response = self.s3_connection.list_objects(Bucket=self.aws_bucket)\n",
    "            print(\"Connection Established!\")\n",
    "        except Exception as e:\n",
    "            print(e)\n",
    "    \n",
    "    def bucket_extract(self):\n",
    "        \n",
    "        #Get list of Data Sources in S3 Bucket\n",
    "        response = self.s3_connection.list_objects(Bucket=self.aws_bucket)\n",
    "        sources = response.get(\"Contents\")\n",
    "        \n",
    "        \n",
    "        #Loop through Data Sources found in S3 Bucket\n",
    "        data_sources = {}\n",
    "        for source in sources:\n",
    "            s3_obj = self.s3_connection.get_object(Bucket=self.aws_bucket, Key=source['Key'])\n",
    "            nfl_df = pd.read_csv(io.BytesIO(s3_obj['Body'].read()))\n",
    "            \n",
    "            #Hold Dataframe in Dictionary to easier analysis\n",
    "            file_name = source['Key'].split('.')[0]\n",
    "            data_sources[file_name] = nfl_df\n",
    "        \n",
    "        return data_sources\n",
    "        \n",
    "            \n",
    "            \n",
    "    \n",
    "        \n",
    "        "
   ]
  },
  {
   "cell_type": "code",
   "execution_count": 62,
   "id": "fa1acb18",
   "metadata": {},
   "outputs": [
    {
     "name": "stdout",
     "output_type": "stream",
     "text": [
      "Configurating Connection to S3 Bucket...\n",
      "Connection Established!\n"
     ]
    }
   ],
   "source": [
    "connection = Data_Connection()\n",
    "connection.check_bucket_connection()"
   ]
  },
  {
   "cell_type": "code",
   "execution_count": 63,
   "id": "59f6e94b",
   "metadata": {},
   "outputs": [
    {
     "name": "stdout",
     "output_type": "stream",
     "text": [
      "{'bengals':      Week Opponent Location  Result\n",
      "0    PRE1       TB     Away     1.0\n",
      "1    PRE2      WSH     Away     0.0\n",
      "2    PRE3      MIA     Home     0.0\n",
      "3    REG1      MIN     Home     1.0\n",
      "4    REG2      CHI     Away     0.0\n",
      "5    REG3      PIT     Away     1.0\n",
      "6    REG4      JAX     Home     1.0\n",
      "7    REG5       GB     Home     0.0\n",
      "8    REG6      DET     Away     1.0\n",
      "9    REG7      BAL     Away     1.0\n",
      "10   REG8      NYJ     Away     0.0\n",
      "11   REG9      CLE     Home     0.0\n",
      "12  REG10      NaN      NaN     NaN\n",
      "13  REG11       LV     Away     1.0\n",
      "14  REG12      PIT     Home     1.0\n",
      "15  REG13      LAC     Home     0.0\n",
      "16  REG14       SF     Home     0.0\n",
      "17  REG15      DEN     Away     1.0\n",
      "18  REG16      BAL     Home     1.0\n",
      "19  REG17       KC     Home     1.0\n",
      "20  REG18      CLE     Away     0.0\n",
      "21  POST1       LV     Home     1.0\n",
      "22  POST2      TEN     Away     1.0\n",
      "23  POST3       KC     Away     1.0\n",
      "24  POST4      LAR  Neutral     0.0, 'boyd_receiving':      Week  Yards  TD\n",
      "0    REG1     32   0\n",
      "1    REG2     73   0\n",
      "2    REG3     36   1\n",
      "3    REG4    118   0\n",
      "4    REG5     24   0\n",
      "5    REG6      7   0\n",
      "6    REG7     39   0\n",
      "7    REG8     69   1\n",
      "8    REG9     11   0\n",
      "9   REG11     49   0\n",
      "10  REG12     13   0\n",
      "11  REG13     85   0\n",
      "12  REG14     55   0\n",
      "13  REG15     96   1\n",
      "14  REG16     85   1\n",
      "15  REG17     36   1\n",
      "16  POST1     26   1\n",
      "17  POST2     17   0\n",
      "18  POST3     19   0\n",
      "19  POST4     48   0, 'chase_receiving':      Week  Yards  TD\n",
      "0    REG1    101   1\n",
      "1    REG2     54   1\n",
      "2    REG3     65   2\n",
      "3    REG4     77   0\n",
      "4    REG5    159   1\n",
      "5    REG6     97   0\n",
      "6    REG7    201   1\n",
      "7    REG8     32   1\n",
      "8    REG9     49   0\n",
      "9   REG11     32   1\n",
      "10  REG12     39   0\n",
      "11  REG13     52   0\n",
      "12  REG14     77   2\n",
      "13  REG15      3   0\n",
      "14  REG16    125   0\n",
      "15  REG17    266   3\n",
      "16  REG18     26   0\n",
      "17  POST1    116   0\n",
      "18  POST2    109   0\n",
      "19  POST3     54   1\n",
      "20  POST4     89   0, 'higgins_receiving':      Week  Yards  TD\n",
      "0    REG1     58   1\n",
      "1    REG2     60   1\n",
      "2    REG5     32   0\n",
      "3    REG6     44   0\n",
      "4    REG7     62   0\n",
      "5    REG8     97   0\n",
      "6    REG9     78   0\n",
      "7   REG11     15   0\n",
      "8   REG12    114   1\n",
      "9   REG13    138   1\n",
      "10  REG14    114   0\n",
      "11  REG15     23   0\n",
      "12  REG16    194   2\n",
      "13  REG17     62   0\n",
      "14  POST1     10   0\n",
      "15  POST2     96   0\n",
      "16  POST3    103   0\n",
      "17  POST4    100   2}\n"
     ]
    }
   ],
   "source": [
    "dataframes = connection.bucket_extract()\n",
    "print(dataframes)"
   ]
  },
  {
   "cell_type": "code",
   "execution_count": null,
   "id": "8935daaa",
   "metadata": {},
   "outputs": [],
   "source": []
  }
 ],
 "metadata": {
  "kernelspec": {
   "display_name": "Python 3 (ipykernel)",
   "language": "python",
   "name": "python3"
  },
  "language_info": {
   "codemirror_mode": {
    "name": "ipython",
    "version": 3
   },
   "file_extension": ".py",
   "mimetype": "text/x-python",
   "name": "python",
   "nbconvert_exporter": "python",
   "pygments_lexer": "ipython3",
   "version": "3.8.13"
  }
 },
 "nbformat": 4,
 "nbformat_minor": 5
}
