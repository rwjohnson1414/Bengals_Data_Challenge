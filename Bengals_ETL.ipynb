{
 "cells": [
  {
   "cell_type": "markdown",
   "id": "7d67ad5e",
   "metadata": {},
   "source": [
    "# <u>Bengals Data ETL</u>"
   ]
  },
  {
   "cell_type": "markdown",
   "id": "b8077d87",
   "metadata": {},
   "source": [
    "### Establish Package Imports"
   ]
  },
  {
   "cell_type": "code",
   "execution_count": 4,
   "id": "be571281",
   "metadata": {},
   "outputs": [],
   "source": [
    "import boto3\n",
    "import pandas as pd"
   ]
  },
  {
   "cell_type": "markdown",
   "id": "b72f32d8",
   "metadata": {},
   "source": [
    "### Create Connection Class for AWS S3 Bucket\n",
    "\n",
    "Notes:\n",
    "- AWS Credentials were setup with Environment Variables"
   ]
  },
  {
   "cell_type": "code",
   "execution_count": 44,
   "id": "3c46b60d",
   "metadata": {},
   "outputs": [],
   "source": [
    "class Data_Connection:\n",
    "    def __init__(self):\n",
    "        self.aws_connection = boto3.Session()\n",
    "        self.s3_connection = self.aws_connection.client('s3')\n",
    "    \n",
    "    def check_bucket_connection(self):\n",
    "        print(\"Configurating Connection to S3 Bucket...\")\n",
    "        \n",
    "        try:\n",
    "            response = self.s3_connection.list_objects(Bucket='mindex-data-analytics-code-challenge')\n",
    "            print(\"Connection Established!\")\n",
    "            \n",
    "        except Exception as e:\n",
    "            print(e)\n",
    "            \n",
    "        \n",
    "        "
   ]
  },
  {
   "cell_type": "code",
   "execution_count": 45,
   "id": "fa1acb18",
   "metadata": {},
   "outputs": [
    {
     "name": "stdout",
     "output_type": "stream",
     "text": [
      "Configurating Connection to S3 Bucket...\n",
      "Connection Established!\n"
     ]
    }
   ],
   "source": [
    "connection = Data_Connection()\n",
    "connection.check_bucket_connection()"
   ]
  }
 ],
 "metadata": {
  "kernelspec": {
   "display_name": "Python 3 (ipykernel)",
   "language": "python",
   "name": "python3"
  },
  "language_info": {
   "codemirror_mode": {
    "name": "ipython",
    "version": 3
   },
   "file_extension": ".py",
   "mimetype": "text/x-python",
   "name": "python",
   "nbconvert_exporter": "python",
   "pygments_lexer": "ipython3",
   "version": "3.8.13"
  }
 },
 "nbformat": 4,
 "nbformat_minor": 5
}
